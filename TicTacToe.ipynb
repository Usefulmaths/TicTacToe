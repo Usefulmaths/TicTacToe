{
 "cells": [
  {
   "cell_type": "markdown",
   "metadata": {},
   "source": [
    "# TicTacToe\n",
    "### An implementation of the game TicTacToe with AI opponent\n",
    "This is an implementation of the simple grid-based game known as TicTacToe. Additionally, a simple AI has been created which can serve as a worthy opponent!\n",
    "\n",
    "On its turn, the AI simulates playing many games with itself from the current state of the game and chooses its simulated moves based on a random policy. There are three outcomes from a simulation: \n",
    "\n",
    "- The AI wins against itself (+1)\n",
    "- The AI loses against itself (-1)\n",
    "- The AI draws against itself (±0)\n",
    "\n",
    "Once the simulation is complete, the outcome of the game is stored with the corresponding first move in the simulation. This is repeated N times, resulting in an estimated potential for each move in the current state. \n",
    "\n",
    "For example, consider the board state where the AI is X and its opponent is O\n",
    "\n",
    " |\tX\t |\tO\t |\tO\t|\n",
    " ---------------------------------------------------\n",
    " |\tO\t |\tO\t |\tX\t|\n",
    " ---------------------------------------------------\n",
    " |\tX\t |\t--  |\t--\t|\n",
    "  ---------------------------------------------------\n",
    "  \n",
    "  \n",
    "The AI has two options, it can either place a X in the middle-bottom square or the last-bottom square. By simulating many games and randomly trying both moves, it will discover that it will lose in 100% of simulated games if it places an X in the last-bottom square. This will result in a very negative reward for the AI if it were to place its piece in the last-bottom square and a reward of 0 otherwise (because it will draw every time). Therefore, once the games have been simulated and it has figured out the potential reward of each move, it will choose a move that that maximises its potential reward (middle-bottom)."
   ]
  },
  {
   "cell_type": "markdown",
   "metadata": {},
   "source": [
    "### Performance of the AI as the number of simulations increase\n",
    "\n",
    "Essentially, the AI is estimating the probability of the next action leading to a win, given the current game state. As a result, the larger the number of simulations, the more accurate the estimates, and the less likely the agent is to lose.\n",
    "\n",
    "This can be demonstrated by playing many games against an opponent with varying number of simulations. In this case, the opponent will choose its actions at random."
   ]
  },
  {
   "cell_type": "code",
   "execution_count": 1,
   "metadata": {
    "scrolled": true
   },
   "outputs": [
    {
     "name": "stdout",
     "output_type": "stream",
     "text": [
      "Difficulty: 1 -> Wins: 415, Losses: 441, Draws: 144\n",
      "Difficulty: 11 -> Wins: 796, Losses: 116, Draws: 88\n",
      "Difficulty: 21 -> Wins: 835, Losses: 96, Draws: 69\n",
      "Difficulty: 31 -> Wins: 856, Losses: 88, Draws: 56\n",
      "Difficulty: 41 -> Wins: 894, Losses: 53, Draws: 53\n",
      "Difficulty: 51 -> Wins: 874, Losses: 64, Draws: 62\n",
      "Difficulty: 61 -> Wins: 890, Losses: 56, Draws: 54\n",
      "Difficulty: 71 -> Wins: 894, Losses: 59, Draws: 47\n",
      "Difficulty: 81 -> Wins: 891, Losses: 44, Draws: 65\n",
      "Difficulty: 91 -> Wins: 898, Losses: 56, Draws: 46\n",
      "Difficulty: 101 -> Wins: 907, Losses: 40, Draws: 53\n",
      "Difficulty: 111 -> Wins: 917, Losses: 35, Draws: 48\n",
      "Difficulty: 121 -> Wins: 913, Losses: 37, Draws: 50\n",
      "Difficulty: 131 -> Wins: 907, Losses: 49, Draws: 44\n",
      "Difficulty: 141 -> Wins: 926, Losses: 30, Draws: 44\n",
      "Difficulty: 151 -> Wins: 917, Losses: 35, Draws: 48\n",
      "Difficulty: 161 -> Wins: 940, Losses: 29, Draws: 31\n",
      "Difficulty: 171 -> Wins: 911, Losses: 35, Draws: 54\n",
      "Difficulty: 181 -> Wins: 910, Losses: 38, Draws: 52\n",
      "Difficulty: 191 -> Wins: 918, Losses: 30, Draws: 52\n"
     ]
    }
   ],
   "source": [
    "from tictactoe import TicTacToe, Agent\n",
    "\n",
    "# Instantiate the TicTacToe board\n",
    "board = TicTacToe()\n",
    "\n",
    "# Used to store the win rate\n",
    "win_ratios = []\n",
    "\n",
    "# A list of simulations to be tested\n",
    "difficulties = range(1, 200, 10)\n",
    "\n",
    "# The number of games to play\n",
    "number_of_games = 1000\n",
    "\n",
    "# For each amount of simulations\n",
    "for difficulty in difficulties:\n",
    "    \n",
    "    # Instantiate the AI with a number of simulations\n",
    "    agent = Agent(difficulty=difficulty)\n",
    "    \n",
    "    # Play many games\n",
    "    for i in range(number_of_games):\n",
    "        \n",
    "        # Automatically plays game against random opponent\n",
    "        reward = board.computer_play_game(agent)\n",
    "\n",
    "        # Record wins, losses, and draws.\n",
    "        if reward == -1:\n",
    "            agent.wins += 1\n",
    "\n",
    "        elif reward == 1:\n",
    "            agent.losses += 1\n",
    "\n",
    "        else:\n",
    "            agent.draws += 1\n",
    "    \n",
    "    print(\"Difficulty: %d -> Wins: %d, Losses: %d, Draws: %d\" % (difficulty, agent.wins, agent.losses, agent.draws))\n",
    "    win_ratios.append(agent.wins / (agent.wins + agent.losses + agent.draws))"
   ]
  },
  {
   "cell_type": "code",
   "execution_count": 2,
   "metadata": {},
   "outputs": [
    {
     "data": {
      "image/png": "[encoded data removed]",
      "text/plain": [
       "<Figure size 432x288 with 1 Axes>"
      ]
     },
     "metadata": {},
     "output_type": "display_data"
    }
   ],
   "source": [
    "%matplotlib inline\n",
    "import matplotlib.pyplot as plt\n",
    "\n",
    "plt.xlabel('Difficulty Level')\n",
    "plt.ylabel('Win Rate')\n",
    "plt.title('Win Rate of Computer with Increasing Difficulty')\n",
    "plt.plot(difficulties, win_ratios, color='blue')\n",
    "plt.scatter(difficulties, win_ratios, color='red')\n",
    "plt.show()"
   ]
  },
  {
   "cell_type": "markdown",
   "metadata": {},
   "source": [
    "As can be seen in the graph above, the performance (win rate) of the AI drastically increases as the number of simulations (difficulty) increases and quickly plateaus towards a win-rate of near one. \n",
    "\n",
    "Even though the performance is measured against an opponent with a random policy, it is not limited to performing well against random agents. It becomes evident once playing a few games again the AI that it is almost impossible to win against when its difficulty level exceeds 150."
   ]
  },
  {
   "cell_type": "code",
   "execution_count": 15,
   "metadata": {},
   "outputs": [
    {
     "name": "stdout",
     "output_type": "stream",
     "text": [
      "GAME STARTED: Difficulty Level = 500\n",
      "Computer played position: (1, 1)\n",
      "\n",
      "\n",
      " |\t\t |\t\t |\t\t|\n",
      "---------------------------------------------------\n",
      " |\t\t |\tO\t |\t\t|\n",
      "---------------------------------------------------\n",
      " |\t\t |\t\t |\t\t|\n",
      "\n",
      "\n",
      "Actions to choose from: [1 - 9]\n",
      "Enter a move: 1\n",
      "You played position: (0, 0)\n",
      " |\tX\t |\t\t |\t\t|\n",
      "---------------------------------------------------\n",
      " |\t\t |\tO\t |\t\t|\n",
      "---------------------------------------------------\n",
      " |\t\t |\t\t |\t\t|\n",
      "Computer played position: (0, 1)\n",
      "\n",
      "\n",
      " |\tX\t |\tO\t |\t\t|\n",
      "---------------------------------------------------\n",
      " |\t\t |\tO\t |\t\t|\n",
      "---------------------------------------------------\n",
      " |\t\t |\t\t |\t\t|\n",
      "\n",
      "\n",
      "Actions to choose from: [1 - 9]\n",
      "Enter a move: 8\n",
      "You played position: (2, 1)\n",
      " |\tX\t |\tO\t |\t\t|\n",
      "---------------------------------------------------\n",
      " |\t\t |\tO\t |\t\t|\n",
      "---------------------------------------------------\n",
      " |\t\t |\tX\t |\t\t|\n",
      "Computer played position: (2, 0)\n",
      "\n",
      "\n",
      " |\tX\t |\tO\t |\t\t|\n",
      "---------------------------------------------------\n",
      " |\t\t |\tO\t |\t\t|\n",
      "---------------------------------------------------\n",
      " |\tO\t |\tX\t |\t\t|\n",
      "\n",
      "\n",
      "Actions to choose from: [1 - 9]\n",
      "Enter a move: 3\n",
      "You played position: (0, 2)\n",
      " |\tX\t |\tO\t |\tX\t|\n",
      "---------------------------------------------------\n",
      " |\t\t |\tO\t |\t\t|\n",
      "---------------------------------------------------\n",
      " |\tO\t |\tX\t |\t\t|\n",
      "Computer played position: (1, 2)\n",
      "\n",
      "\n",
      " |\tX\t |\tO\t |\tX\t|\n",
      "---------------------------------------------------\n",
      " |\t\t |\tO\t |\tO\t|\n",
      "---------------------------------------------------\n",
      " |\tO\t |\tX\t |\t\t|\n",
      "\n",
      "\n",
      "Actions to choose from: [1 - 9]\n",
      "Enter a move: 4\n",
      "You played position: (1, 0)\n",
      " |\tX\t |\tO\t |\tX\t|\n",
      "---------------------------------------------------\n",
      " |\tX\t |\tO\t |\tO\t|\n",
      "---------------------------------------------------\n",
      " |\tO\t |\tX\t |\t\t|\n",
      "Computer played position: (2, 2)\n",
      "\n",
      "\n",
      " |\tX\t |\tO\t |\tX\t|\n",
      "---------------------------------------------------\n",
      " |\tX\t |\tO\t |\tO\t|\n",
      "---------------------------------------------------\n",
      " |\tO\t |\tX\t |\tO\t|\n",
      "\n",
      "\n",
      "You draw!\n"
     ]
    }
   ],
   "source": [
    "%matplotlib inline\n",
    "from tictactoe import TicTacToe, Agent\n",
    "\n",
    "# Instantiate the TicTacToe board\n",
    "board = TicTacToe()\n",
    "\n",
    "# Instantiate the AI with a difficulty level.\n",
    "agent = Agent(difficulty=500)\n",
    "\n",
    "# Play TicTacToe!\n",
    "board.play_game(agent)"
   ]
  },
  {
   "cell_type": "markdown",
   "metadata": {},
   "source": [
    "### Insight into the workings of the AI\n",
    "We can get a bit of insight on how the AI 'thinks' by observing the values it stores in each game state after \n",
    "performing the simulations. "
   ]
  },
  {
   "cell_type": "code",
   "execution_count": 16,
   "metadata": {},
   "outputs": [],
   "source": [
    "import numpy as np\n",
    "import matplotlib.pyplot as plt\n",
    "def plot_grid(grids, stage):\n",
    "    grid = grids[stage]\n",
    "    probs = np.round(grid/grid.sum(), 3)\n",
    "    for (j,i),label in np.ndenumerate(probs):\n",
    "        plt.text(i,j,label,ha='center',va='center', color='black', fontsize='20')\n",
    "\n",
    "    plt.imshow(grid, cmap='summer')\n",
    "    plt.xticks([])\n",
    "    plt.yticks([])\n",
    "    plt.show()"
   ]
  },
  {
   "cell_type": "markdown",
   "metadata": {},
   "source": [
    "In the game above, the AI had the first move. From running many simulation, it found that the most promising move that leads to a win the majority of the time against a random agent is the centre square (22%). "
   ]
  },
  {
   "cell_type": "code",
   "execution_count": 17,
   "metadata": {},
   "outputs": [
    {
     "data": {
      "image/png": "[encoded data removed]",
      "text/plain": [
       "<Figure size 432x288 with 1 Axes>"
      ]
     },
     "metadata": {},
     "output_type": "display_data"
    }
   ],
   "source": [
    "plot_grid(agent.grids, 0)"
   ]
  },
  {
   "cell_type": "markdown",
   "metadata": {},
   "source": [
    "The following moves work in a similar fashion, each move being associated with its probability of leading to a win."
   ]
  },
  {
   "cell_type": "code",
   "execution_count": 18,
   "metadata": {},
   "outputs": [
    {
     "data": {
      "image/png": "[encoded data removed]",
      "text/plain": [
       "<Figure size 432x288 with 1 Axes>"
      ]
     },
     "metadata": {},
     "output_type": "display_data"
    }
   ],
   "source": [
    "plot_grid(agent.grids, 1)"
   ]
  },
  {
   "cell_type": "code",
   "execution_count": 19,
   "metadata": {},
   "outputs": [
    {
     "data": {
      "image/png": "[encoded data removed]",
      "text/plain": [
       "<Figure size 432x288 with 1 Axes>"
      ]
     },
     "metadata": {},
     "output_type": "display_data"
    }
   ],
   "source": [
    "plot_grid(agent.grids, 2)"
   ]
  },
  {
   "cell_type": "markdown",
   "metadata": {},
   "source": [
    "The last choice that the AI makes have very similar probabilities. This is because both of these moves can only lead to a win if the player messes up his last move. "
   ]
  },
  {
   "cell_type": "code",
   "execution_count": 20,
   "metadata": {},
   "outputs": [
    {
     "data": {
      "image/png": "[encoded data removed]",
      "text/plain": [
       "<Figure size 432x288 with 1 Axes>"
      ]
     },
     "metadata": {},
     "output_type": "display_data"
    }
   ],
   "source": [
    "plot_grid(agent.grids, 3)"
   ]
  }
 ],
 "metadata": {
  "kernelspec": {
   "display_name": "Python 3",
   "language": "python",
   "name": "python3"
  },
  "language_info": {
   "codemirror_mode": {
    "name": "ipython",
    "version": 3
   },
   "file_extension": ".py",
   "mimetype": "text/x-python",
   "name": "python",
   "nbconvert_exporter": "python",
   "pygments_lexer": "ipython3",
   "version": "3.7.0"
  }
 },
 "nbformat": 4,
 "nbformat_minor": 2
}
