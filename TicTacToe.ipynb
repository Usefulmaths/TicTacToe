{
 "cells": [
  {
   "cell_type": "markdown",
   "metadata": {},
   "source": [
    "# TicTacToe\n",
    "### An implementation of the game TicTacToe with AI opponent\n",
    "This is an implementation of the simple grid-based game known as TicTacToe. Additionally, a simple AI has been created which can serve as a worthy opponent!\n",
    "\n",
    "On its turn, the AI simulates playing many games with itself from the current state of the game and chooses its simulated moves based on a random policy. There are three outcomes from a simulation: \n",
    "\n",
    "- The AI wins against itself (+1)\n",
    "- The AI loses against itself (-1)\n",
    "- The AI draws against itself (±0)\n",
    "\n",
    "Once the simulation is complete, the outcome of the game is stored with the corresponding first move in the simulation. This is repeated N times, resulting in an estimated potential for each move in the current state. \n",
    "\n",
    "For example, consider the board state where the AI is X and its opponent is O\n",
    "\n",
    " |\tX\t |\tO\t |\tO\t|\n",
    " ---------------------------------------------------\n",
    " |\tO\t |\tO\t |\tX\t|\n",
    " ---------------------------------------------------\n",
    " |\tX\t |\t--  |\t--\t|\n",
    "  ---------------------------------------------------\n",
    "  \n",
    "  \n",
    "The AI has two options, it can either place a X in the middle-bottom square or the last-bottom square. By simulating many games and randomly trying both moves, it will discover that it will lose in 100% of simulated games if it places an X in the last-bottom square. This will result in a very negative reward for the AI if it were to place its piece in the last-bottom square and a reward of 0 otherwise (because it will draw every time). Therefore, once the games have been simulated and it has figured out the potential reward of each move, it will choose a move that that maximises its potential reward (middle-bottom)."
   ]
  },
  {
   "cell_type": "markdown",
   "metadata": {},
   "source": [
    "### Performance of the AI as the number of simulations increase\n",
    "\n",
    "Essentially, the AI is estimating the probability of the next action leading to a win, given the current game state. As a result, the larger the number of simulations, the more accurate the estimates, and the less likely the agent is to lose.\n",
    "\n",
    "This can be demonstrated by playing many games against an opponent with varying number of simulations. In this case, the opponent will choose its actions at random."
   ]
  },
  {
   "cell_type": "code",
   "execution_count": 8,
   "metadata": {
    "scrolled": true
   },
   "outputs": [
    {
     "name": "stdout",
     "output_type": "stream",
     "text": [
      "Difficulty: 1 -> Wins: 561, Losses: 301, Draws: 138\n",
      "Difficulty: 11 -> Wins: 855, Losses: 73, Draws: 72\n",
      "Difficulty: 21 -> Wins: 897, Losses: 52, Draws: 51\n",
      "Difficulty: 31 -> Wins: 925, Losses: 22, Draws: 53\n",
      "Difficulty: 41 -> Wins: 947, Losses: 6, Draws: 47\n",
      "Difficulty: 51 -> Wins: 948, Losses: 10, Draws: 42\n",
      "Difficulty: 61 -> Wins: 951, Losses: 13, Draws: 36\n",
      "Difficulty: 71 -> Wins: 960, Losses: 12, Draws: 28\n",
      "Difficulty: 81 -> Wins: 969, Losses: 3, Draws: 28\n",
      "Difficulty: 91 -> Wins: 964, Losses: 8, Draws: 28\n",
      "Difficulty: 101 -> Wins: 969, Losses: 5, Draws: 26\n",
      "Difficulty: 111 -> Wins: 972, Losses: 7, Draws: 21\n",
      "Difficulty: 121 -> Wins: 968, Losses: 1, Draws: 31\n",
      "Difficulty: 131 -> Wins: 971, Losses: 6, Draws: 23\n",
      "Difficulty: 141 -> Wins: 976, Losses: 1, Draws: 23\n",
      "Difficulty: 151 -> Wins: 979, Losses: 2, Draws: 19\n",
      "Difficulty: 161 -> Wins: 988, Losses: 0, Draws: 12\n",
      "Difficulty: 171 -> Wins: 974, Losses: 4, Draws: 22\n",
      "Difficulty: 181 -> Wins: 984, Losses: 3, Draws: 13\n",
      "Difficulty: 191 -> Wins: 978, Losses: 1, Draws: 21\n"
     ]
    }
   ],
   "source": [
    "from tictactoe import TicTacToe, Agent\n",
    "\n",
    "# Instantiate the TicTacToe board\n",
    "board = TicTacToe()\n",
    "\n",
    "# Used to store the win rate\n",
    "win_ratios = []\n",
    "\n",
    "# A list of simulations to be tested\n",
    "difficulties = range(1, 200, 10)\n",
    "\n",
    "# The number of games to play\n",
    "number_of_games = 1000\n",
    "\n",
    "# For each amount of simulations\n",
    "for difficulty in difficulties:\n",
    "    \n",
    "    # Instantiate the AI with a number of simulations\n",
    "    agent = Agent(difficulty=difficulty)\n",
    "    \n",
    "    # Play many games\n",
    "    for i in range(number_of_games):\n",
    "        \n",
    "        # Automatically plays game against random opponent\n",
    "        reward = board.computer_play_game(agent)\n",
    "\n",
    "        # Record wins, losses, and draws.\n",
    "        if reward == 1:\n",
    "            agent.wins += 1\n",
    "\n",
    "        elif reward == -1:\n",
    "            agent.losses += 1\n",
    "\n",
    "        else:\n",
    "            agent.draws += 1\n",
    "    \n",
    "    print(\"Difficulty: %d -> Wins: %d, Losses: %d, Draws: %d\" % (difficulty, agent.wins, agent.losses, agent.draws))\n",
    "    win_ratios.append(agent.wins / (agent.wins + agent.losses + agent.draws))"
   ]
  },
  {
   "cell_type": "code",
   "execution_count": 10,
   "metadata": {},
   "outputs": [
    {
     "data": {
      "image/png": "[encoded data removed]",
      "text/plain": [
       "<Figure size 432x288 with 1 Axes>"
      ]
     },
     "metadata": {},
     "output_type": "display_data"
    }
   ],
   "source": [
    "%matplotlib inline\n",
    "import matplotlib.pyplot as plt\n",
    "\n",
    "plt.xlabel('Difficulty Level')\n",
    "plt.ylabel('Win Rate')\n",
    "plt.title('Win Rate of Computer with Increasing Difficulty')\n",
    "plt.plot(difficulties, win_ratios, color='blue')\n",
    "plt.scatter(difficulties, win_ratios, color='red')\n",
    "plt.show()"
   ]
  },
  {
   "cell_type": "markdown",
   "metadata": {},
   "source": [
    "As can be seen in the graph above, the performance (win rate) of the AI drastically increases as the number of simulations (difficulty) increases and quickly plateaus towards a win-rate of near one. \n",
    "\n",
    "Even though the performance is measured against an opponent with a random policy, it is not limited to performing well against random agents. It becomes evident once playing a few games again the AI that it is almost impossible to win against when its difficulty level exceeds 150."
   ]
  },
  {
   "cell_type": "code",
   "execution_count": 1,
   "metadata": {},
   "outputs": [
    {
     "name": "stdout",
     "output_type": "stream",
     "text": [
      "Computer played position: (1, 1)\n",
      "\n",
      "\n",
      " |\t\t |\t\t |\t\t|\n",
      "---------------------------------------------------\n",
      " |\t\t |\tO\t |\t\t|\n",
      "---------------------------------------------------\n",
      " |\t\t |\t\t |\t\t|\n",
      "\n",
      "\n",
      "Enter a move: 00\n",
      "You played position: (0, 0)\n",
      " |\tX\t |\t\t |\t\t|\n",
      "---------------------------------------------------\n",
      " |\t\t |\tO\t |\t\t|\n",
      "---------------------------------------------------\n",
      " |\t\t |\t\t |\t\t|\n",
      "Computer played position: (0, 1)\n",
      "\n",
      "\n",
      " |\tX\t |\tO\t |\t\t|\n",
      "---------------------------------------------------\n",
      " |\t\t |\tO\t |\t\t|\n",
      "---------------------------------------------------\n",
      " |\t\t |\t\t |\t\t|\n",
      "\n",
      "\n",
      "Enter a move: 21\n",
      "You played position: (2, 1)\n",
      " |\tX\t |\tO\t |\t\t|\n",
      "---------------------------------------------------\n",
      " |\t\t |\tO\t |\t\t|\n",
      "---------------------------------------------------\n",
      " |\t\t |\tX\t |\t\t|\n",
      "Computer played position: (2, 0)\n",
      "\n",
      "\n",
      " |\tX\t |\tO\t |\t\t|\n",
      "---------------------------------------------------\n",
      " |\t\t |\tO\t |\t\t|\n",
      "---------------------------------------------------\n",
      " |\tO\t |\tX\t |\t\t|\n",
      "\n",
      "\n",
      "Enter a move: 02\n",
      "You played position: (0, 2)\n",
      " |\tX\t |\tO\t |\tX\t|\n",
      "---------------------------------------------------\n",
      " |\t\t |\tO\t |\t\t|\n",
      "---------------------------------------------------\n",
      " |\tO\t |\tX\t |\t\t|\n",
      "Computer played position: (1, 2)\n",
      "\n",
      "\n",
      " |\tX\t |\tO\t |\tX\t|\n",
      "---------------------------------------------------\n",
      " |\t\t |\tO\t |\tO\t|\n",
      "---------------------------------------------------\n",
      " |\tO\t |\tX\t |\t\t|\n",
      "\n",
      "\n",
      "Enter a move: 10\n",
      "You played position: (1, 0)\n",
      " |\tX\t |\tO\t |\tX\t|\n",
      "---------------------------------------------------\n",
      " |\tX\t |\tO\t |\tO\t|\n",
      "---------------------------------------------------\n",
      " |\tO\t |\tX\t |\t\t|\n",
      "Computer played position: (2, 2)\n",
      "\n",
      "\n",
      " |\tX\t |\tO\t |\tX\t|\n",
      "---------------------------------------------------\n",
      " |\tX\t |\tO\t |\tO\t|\n",
      "---------------------------------------------------\n",
      " |\tO\t |\tX\t |\tO\t|\n",
      "\n",
      "\n",
      "You draw!\n"
     ]
    }
   ],
   "source": [
    "%matplotlib inline\n",
    "from tictactoe import TicTacToe, Agent\n",
    "\n",
    "# Instantiate the TicTacToe board\n",
    "board = TicTacToe()\n",
    "\n",
    "# Instantiate the AI with a difficulty level.\n",
    "agent = Agent(difficulty=500)\n",
    "\n",
    "# Play TicTacToe!\n",
    "board.play_game(agent)"
   ]
  },
  {
   "attachments": {},
   "cell_type": "markdown",
   "metadata": {},
   "source": [
    "### Insight into the workings of the AI\n",
    "We can get a bit of insight on how the AI 'thinks' by observing the values it stores in each game state after \n",
    "performing the simulations. "
   ]
  },
  {
   "cell_type": "code",
   "execution_count": 2,
   "metadata": {},
   "outputs": [],
   "source": [
    "import numpy as np\n",
    "import matplotlib.pyplot as plt\n",
    "def plot_grid(grids, stage):\n",
    "    grid = grids[stage]\n",
    "    probs = np.round(grid/grid.sum(), 3)\n",
    "    for (j,i),label in np.ndenumerate(probs):\n",
    "        plt.text(i,j,label,ha='center',va='center', color='black', fontsize='20')\n",
    "\n",
    "    plt.imshow(grid, cmap='summer')\n",
    "    plt.xticks([])\n",
    "    plt.yticks([])\n",
    "    plt.show()"
   ]
  },
  {
   "cell_type": "markdown",
   "metadata": {},
   "source": [
    "In the game above, the AI had the first move. From running many simulation, it found that the most promising move that leads to a win the majority of the time against a random agent is the centre square (22%). "
   ]
  },
  {
   "cell_type": "code",
   "execution_count": 3,
   "metadata": {},
   "outputs": [
    {
     "data": {
      "image/png": "[encoded data removed]",
      "text/plain": [
       "<Figure size 432x288 with 1 Axes>"
      ]
     },
     "metadata": {},
     "output_type": "display_data"
    }
   ],
   "source": [
    "plot_grid(agent.grids, 0)"
   ]
  },
  {
   "cell_type": "markdown",
   "metadata": {},
   "source": [
    "The following moves work in a similar fashion, each move being associated with its probability of leading to a win."
   ]
  },
  {
   "cell_type": "code",
   "execution_count": 4,
   "metadata": {},
   "outputs": [
    {
     "data": {
      "image/png": "[encoded data removed]",
      "text/plain": [
       "<Figure size 432x288 with 1 Axes>"
      ]
     },
     "metadata": {},
     "output_type": "display_data"
    }
   ],
   "source": [
    "plot_grid(agent.grids, 1)"
   ]
  },
  {
   "cell_type": "code",
   "execution_count": 5,
   "metadata": {},
   "outputs": [
    {
     "data": {
      "image/png": "[encoded data removed]",
      "text/plain": [
       "<Figure size 432x288 with 1 Axes>"
      ]
     },
     "metadata": {},
     "output_type": "display_data"
    }
   ],
   "source": [
    "plot_grid(agent.grids, 2)"
   ]
  },
  {
   "cell_type": "markdown",
   "metadata": {},
   "source": [
    "The last choice that the AI makes have very similar probabilities. This is because both of these moves can only lead to a win if the player messes up his last move. "
   ]
  },
  {
   "cell_type": "code",
   "execution_count": 6,
   "metadata": {},
   "outputs": [
    {
     "data": {
      "image/png": "[encoded data removed]",
      "text/plain": [
       "<Figure size 432x288 with 1 Axes>"
      ]
     },
     "metadata": {},
     "output_type": "display_data"
    }
   ],
   "source": [
    "plot_grid(agent.grids, 3)"
   ]
  }
 ],
 "metadata": {
  "kernelspec": {
   "display_name": "Python 3",
   "language": "python",
   "name": "python3"
  },
  "language_info": {
   "codemirror_mode": {
    "name": "ipython",
    "version": 3
   },
   "file_extension": ".py",
   "mimetype": "text/x-python",
   "name": "python",
   "nbconvert_exporter": "python",
   "pygments_lexer": "ipython3",
   "version": "3.7.0"
  }
 },
 "nbformat": 4,
 "nbformat_minor": 2
}
